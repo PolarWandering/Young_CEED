{
 "cells": [
  {
   "cell_type": "code",
   "execution_count": 1,
   "id": "d6036c64-5f6c-4cd9-840a-bf43c14ee39e",
   "metadata": {
    "tags": []
   },
   "outputs": [],
   "source": [
    "import os\n",
    "import numpy as np\n",
    "import pandas as pd\n",
    "pd.set_option('display.max_columns', None)\n",
    "from pmagpy import ipmag, pmag\n",
    "import matplotlib.pyplot as plt\n",
    "import seaborn as sns\n",
    "sns.set_style(\"white\")\n",
    "from vgptools.auxiliar import (get_files_in_directory, spherical2cartesian, \n",
    "                               cartesian2spherical, GCD_cartesian, shape)                              \n",
    "from vgptools.utils_compilation import dfs_vgps_recomputed_poles\n",
    "from vgptools.utils_APWPs import (running_mean_APWP, running_mean_APWP_shape, RM_stats, get_pseudo_vgps,\n",
    "                                  running_mean_VGPs_bootstrapped, running_mean_bootstrapping_direction)\n",
    "\n",
    "from vgptools.utils_visualization import  RM_stats, plot_VGPs_and_APWP, plot_APWP_RM_ensemble, quantiles, PC\n",
    "np.random.seed(1)"
   ]
  },
  {
   "cell_type": "markdown",
   "id": "090d6cf3-317a-439b-9d69-5ee6aa0655b9",
   "metadata": {
    "tags": []
   },
   "source": [
    "## Compiles a DataFrame for both, the VGPs and the recomputed poles by study"
   ]
  },
  {
   "cell_type": "code",
   "execution_count": 2,
   "id": "46a2b299-9fa6-4f1c-85aa-ca59b701edc5",
   "metadata": {},
   "outputs": [],
   "source": [
    "current_path = os.getcwd()\n",
    "data_path_VGP = current_path + '/data/vgp_database'"
   ]
  },
  {
   "cell_type": "code",
   "execution_count": 6,
   "id": "9f974200-5004-48d3-9429-8b7374448f14",
   "metadata": {},
   "outputs": [],
   "source": [
    "# df_filtered_vgps, df_pole_compilation = dfs_vgps_recomputed_poles(data_path_VGP, by_study = True) # takes as many as poles as are described for one are\n",
    "df_filtered_vgps = pd.read_csv(current_path +'/data/df_vgps_filtered.csv')\n",
    "df_pole_compilation  = pd.read_csv(current_path +'/data/df_pole_compilation_by_study.csv')"
   ]
  },
  {
   "cell_type": "markdown",
   "id": "55ec846e-fc9e-4b81-8791-942dbe60a9fb",
   "metadata": {},
   "source": [
    "## Set the hyperparameters for further comparissons."
   ]
  },
  {
   "cell_type": "code",
   "execution_count": 22,
   "id": "f8a972ef-2ab5-4ac9-881e-58a0f6c533fe",
   "metadata": {},
   "outputs": [],
   "source": [
    "min_age = 0\n",
    "max_age = 65\n",
    "window_length = 23\n",
    "time_step = 5\n",
    "# define a list to store all the models\n",
    "models = []"
   ]
  },
  {
   "cell_type": "markdown",
   "id": "1cd7ede2-b7f1-4b12-959c-00d97148e910",
   "metadata": {},
   "source": [
    "### 1. Running means classic approach on poles"
   ]
  },
  {
   "cell_type": "code",
   "execution_count": 10,
   "id": "6b187aab-817f-4934-9115-c1bc70c1b688",
   "metadata": {},
   "outputs": [
    {
     "data": {
      "text/html": [
       "<div>\n",
       "<style scoped>\n",
       "    .dataframe tbody tr th:only-of-type {\n",
       "        vertical-align: middle;\n",
       "    }\n",
       "\n",
       "    .dataframe tbody tr th {\n",
       "        vertical-align: top;\n",
       "    }\n",
       "\n",
       "    .dataframe thead th {\n",
       "        text-align: right;\n",
       "    }\n",
       "</style>\n",
       "<table border=\"1\" class=\"dataframe\">\n",
       "  <thead>\n",
       "    <tr style=\"text-align: right;\">\n",
       "      <th></th>\n",
       "      <th>age</th>\n",
       "      <th>N</th>\n",
       "      <th>n_studies</th>\n",
       "      <th>k</th>\n",
       "      <th>A95</th>\n",
       "      <th>csd</th>\n",
       "      <th>plon</th>\n",
       "      <th>plat</th>\n",
       "      <th>method</th>\n",
       "    </tr>\n",
       "  </thead>\n",
       "  <tbody>\n",
       "    <tr>\n",
       "      <th>0</th>\n",
       "      <td>0.0</td>\n",
       "      <td>15.0</td>\n",
       "      <td>15.0</td>\n",
       "      <td>157.806367</td>\n",
       "      <td>3.053286</td>\n",
       "      <td>6.447966</td>\n",
       "      <td>-67.163587</td>\n",
       "      <td>-87.015353</td>\n",
       "      <td>RM_classic</td>\n",
       "    </tr>\n",
       "    <tr>\n",
       "      <th>1</th>\n",
       "      <td>10.0</td>\n",
       "      <td>15.0</td>\n",
       "      <td>15.0</td>\n",
       "      <td>157.806367</td>\n",
       "      <td>3.053286</td>\n",
       "      <td>6.447966</td>\n",
       "      <td>-67.163587</td>\n",
       "      <td>-87.015353</td>\n",
       "      <td>RM_classic</td>\n",
       "    </tr>\n",
       "    <tr>\n",
       "      <th>2</th>\n",
       "      <td>20.0</td>\n",
       "      <td>4.0</td>\n",
       "      <td>4.0</td>\n",
       "      <td>694.396487</td>\n",
       "      <td>3.489190</td>\n",
       "      <td>3.073840</td>\n",
       "      <td>-15.989200</td>\n",
       "      <td>-81.836813</td>\n",
       "      <td>RM_classic</td>\n",
       "    </tr>\n",
       "    <tr>\n",
       "      <th>3</th>\n",
       "      <td>30.0</td>\n",
       "      <td>7.0</td>\n",
       "      <td>7.0</td>\n",
       "      <td>460.397603</td>\n",
       "      <td>2.816323</td>\n",
       "      <td>3.775013</td>\n",
       "      <td>-28.128989</td>\n",
       "      <td>-82.900850</td>\n",
       "      <td>RM_classic</td>\n",
       "    </tr>\n",
       "    <tr>\n",
       "      <th>4</th>\n",
       "      <td>40.0</td>\n",
       "      <td>8.0</td>\n",
       "      <td>8.0</td>\n",
       "      <td>254.364022</td>\n",
       "      <td>3.479776</td>\n",
       "      <td>5.078754</td>\n",
       "      <td>-28.898450</td>\n",
       "      <td>-83.239212</td>\n",
       "      <td>RM_classic</td>\n",
       "    </tr>\n",
       "  </tbody>\n",
       "</table>\n",
       "</div>"
      ],
      "text/plain": [
       "    age     N  n_studies           k       A95       csd       plon  \\\n",
       "0   0.0  15.0       15.0  157.806367  3.053286  6.447966 -67.163587   \n",
       "1  10.0  15.0       15.0  157.806367  3.053286  6.447966 -67.163587   \n",
       "2  20.0   4.0        4.0  694.396487  3.489190  3.073840 -15.989200   \n",
       "3  30.0   7.0        7.0  460.397603  2.816323  3.775013 -28.128989   \n",
       "4  40.0   8.0        8.0  254.364022  3.479776  5.078754 -28.898450   \n",
       "\n",
       "        plat      method  \n",
       "0 -87.015353  RM_classic  \n",
       "1 -87.015353  RM_classic  \n",
       "2 -81.836813  RM_classic  \n",
       "3 -82.900850  RM_classic  \n",
       "4 -83.239212  RM_classic  "
      ]
     },
     "execution_count": 10,
     "metadata": {},
     "output_type": "execute_result"
    }
   ],
   "source": [
    "RM_1_classic_by_study = running_mean_APWP (df_pole_compilation, \"Plon\", \"Plat\", \"mean_age\", window_length, time_step, max_age, min_age)\n",
    "RM_1_classic_by_study['method'] = \"RM_classic\"\n",
    "models.append(RM_1_classic_by_study)\n",
    "RM_1_classic_by_study.head(5)"
   ]
  },
  {
   "cell_type": "markdown",
   "id": "f784289e-7ba8-4189-aa18-15a6be863226",
   "metadata": {},
   "source": [
    "### 2. Running means ensemble from pseudo-VGPs approach (Vaes et al. 2022)"
   ]
  },
  {
   "cell_type": "code",
   "execution_count": 23,
   "id": "566a1884-6483-46a5-a8c8-d0a25beb3719",
   "metadata": {},
   "outputs": [
    {
     "name": "stdout",
     "output_type": "stream",
     "text": [
      "CPU times: user 28.7 s, sys: 179 ms, total: 28.9 s\n",
      "Wall time: 28.9 s\n"
     ]
    }
   ],
   "source": [
    "%%time\n",
    "RM_2_ensemble_pseudoVGP = pd.DataFrame(columns=['run','n_studies','k','A95','csd'])\n",
    "\n",
    "for i in range(100):   \n",
    "    pseudo_vgps_temp = get_pseudo_vgps(df_pole_compilation)\n",
    "    RM_APWP_parametric_temp = pd.DataFrame()\n",
    "    RM_APWP_parametric_temp = running_mean_APWP_shape(pseudo_vgps_temp, 'Plon', 'Plat', 'mean_age', window_length, time_step, max_age, min_age)\n",
    "    RM_APWP_parametric_temp['run'] = i\n",
    "\n",
    "    RM_2_ensemble_pseudoVGP = RM_2_ensemble_pseudoVGP.append(RM_APWP_parametric_temp, ignore_index=True)\n",
    "RM_2_ensemble_pseudoVGP['plon'] = RM_2_ensemble_pseudoVGP.apply(lambda row: row.plon - 360 if row.plon > 180 else row.plon, axis =1)    \n",
    "RM_2_ensemble_pseudoVGP['method'] = \"RM_pseudoVGPs_ensemble\"\n",
    "models.append(RM_2_ensemble_pseudoVGP)"
   ]
  },
  {
   "cell_type": "markdown",
   "id": "8af3059d-727f-4626-a6fe-90ba3b92fdce",
   "metadata": {},
   "source": [
    "Set quantiles"
   ]
  },
  {
   "cell_type": "code",
   "execution_count": 24,
   "id": "7deee0e8-3201-49ea-a68d-5a7dce7f3d92",
   "metadata": {},
   "outputs": [
    {
     "data": {
      "text/html": [
       "<div>\n",
       "<style scoped>\n",
       "    .dataframe tbody tr th:only-of-type {\n",
       "        vertical-align: middle;\n",
       "    }\n",
       "\n",
       "    .dataframe tbody tr th {\n",
       "        vertical-align: top;\n",
       "    }\n",
       "\n",
       "    .dataframe thead th {\n",
       "        text-align: right;\n",
       "    }\n",
       "</style>\n",
       "<table border=\"1\" class=\"dataframe\">\n",
       "  <thead>\n",
       "    <tr style=\"text-align: right;\">\n",
       "      <th></th>\n",
       "      <th>run</th>\n",
       "      <th>n_studies</th>\n",
       "      <th>k</th>\n",
       "      <th>A95</th>\n",
       "      <th>csd</th>\n",
       "      <th>age</th>\n",
       "      <th>N</th>\n",
       "      <th>plon</th>\n",
       "      <th>plat</th>\n",
       "      <th>foliation</th>\n",
       "      <th>lineation</th>\n",
       "      <th>collinearity</th>\n",
       "      <th>coplanarity</th>\n",
       "      <th>method</th>\n",
       "    </tr>\n",
       "  </thead>\n",
       "  <tbody>\n",
       "    <tr>\n",
       "      <th>0</th>\n",
       "      <td>0</td>\n",
       "      <td>15.0</td>\n",
       "      <td>21.299026</td>\n",
       "      <td>1.720005</td>\n",
       "      <td>17.551133</td>\n",
       "      <td>0.0</td>\n",
       "      <td>329.0</td>\n",
       "      <td>-39.688130</td>\n",
       "      <td>-86.466356</td>\n",
       "      <td>0.178871</td>\n",
       "      <td>0.553645</td>\n",
       "      <td>3.095223</td>\n",
       "      <td>0.732516</td>\n",
       "      <td>RM_pseudoVGPs_ensemble</td>\n",
       "    </tr>\n",
       "    <tr>\n",
       "      <th>1</th>\n",
       "      <td>0</td>\n",
       "      <td>16.0</td>\n",
       "      <td>20.197856</td>\n",
       "      <td>1.690451</td>\n",
       "      <td>18.02322</td>\n",
       "      <td>5.0</td>\n",
       "      <td>360.0</td>\n",
       "      <td>-40.648314</td>\n",
       "      <td>-86.477151</td>\n",
       "      <td>0.220881</td>\n",
       "      <td>0.545402</td>\n",
       "      <td>2.469207</td>\n",
       "      <td>0.766284</td>\n",
       "      <td>RM_pseudoVGPs_ensemble</td>\n",
       "    </tr>\n",
       "    <tr>\n",
       "      <th>2</th>\n",
       "      <td>0</td>\n",
       "      <td>19.0</td>\n",
       "      <td>18.513338</td>\n",
       "      <td>1.615115</td>\n",
       "      <td>18.825333</td>\n",
       "      <td>10.0</td>\n",
       "      <td>432.0</td>\n",
       "      <td>-27.970030</td>\n",
       "      <td>-85.431693</td>\n",
       "      <td>0.191487</td>\n",
       "      <td>0.557091</td>\n",
       "      <td>2.909282</td>\n",
       "      <td>0.748578</td>\n",
       "      <td>RM_pseudoVGPs_ensemble</td>\n",
       "    </tr>\n",
       "  </tbody>\n",
       "</table>\n",
       "</div>"
      ],
      "text/plain": [
       "  run n_studies          k       A95        csd   age      N       plon  \\\n",
       "0   0      15.0  21.299026  1.720005  17.551133   0.0  329.0 -39.688130   \n",
       "1   0      16.0  20.197856  1.690451   18.02322   5.0  360.0 -40.648314   \n",
       "2   0      19.0  18.513338  1.615115  18.825333  10.0  432.0 -27.970030   \n",
       "\n",
       "        plat  foliation  lineation  collinearity  coplanarity  \\\n",
       "0 -86.466356   0.178871   0.553645      3.095223     0.732516   \n",
       "1 -86.477151   0.220881   0.545402      2.469207     0.766284   \n",
       "2 -85.431693   0.191487   0.557091      2.909282     0.748578   \n",
       "\n",
       "                   method  \n",
       "0  RM_pseudoVGPs_ensemble  \n",
       "1  RM_pseudoVGPs_ensemble  \n",
       "2  RM_pseudoVGPs_ensemble  "
      ]
     },
     "execution_count": 24,
     "metadata": {},
     "output_type": "execute_result"
    }
   ],
   "source": [
    "RM_2_quantiles_plat = quantiles(RM_2_ensemble_pseudoVGP,\"age\",\"plat\") # set quantiles of latitude groupedby age for visualization purposes\n",
    "RM_2_quantiles_plon = quantiles(RM_2_ensemble_pseudoVGP,\"age\",\"plon\") # set quantiles of longitude groupedby age for visualization purposes\n",
    "RM_2_ensemble_pseudoVGP.head(3)"
   ]
  },
  {
   "cell_type": "markdown",
   "id": "4ec55f67-eafa-444e-a421-433213cea533",
   "metadata": {},
   "source": [
    "## 3. Running means on VGPs. \n",
    "Three different approachs as follows:\n",
    "### 3.1. Running means on the computed dataset (one run and A95)"
   ]
  },
  {
   "cell_type": "code",
   "execution_count": 25,
   "id": "fabfa78d-bb26-4493-8ab3-0a4236927772",
   "metadata": {},
   "outputs": [],
   "source": [
    "RM_31_on_VGP = running_mean_APWP(df_filtered_vgps, 'vgp_lon_SH', 'vgp_lat_SH', 'mean_age', window_length, time_step, max_age, min_age)\n",
    "RM_31_on_VGP['method'] = \"RM_classic_VGPs\"\n",
    "models.append(RM_31_on_VGP)"
   ]
  },
  {
   "cell_type": "code",
   "execution_count": 26,
   "id": "832761e4-bbd1-4694-9671-5252a28e0b78",
   "metadata": {},
   "outputs": [
    {
     "data": {
      "text/html": [
       "<div>\n",
       "<style scoped>\n",
       "    .dataframe tbody tr th:only-of-type {\n",
       "        vertical-align: middle;\n",
       "    }\n",
       "\n",
       "    .dataframe tbody tr th {\n",
       "        vertical-align: top;\n",
       "    }\n",
       "\n",
       "    .dataframe thead th {\n",
       "        text-align: right;\n",
       "    }\n",
       "</style>\n",
       "<table border=\"1\" class=\"dataframe\">\n",
       "  <thead>\n",
       "    <tr style=\"text-align: right;\">\n",
       "      <th></th>\n",
       "      <th>age</th>\n",
       "      <th>N</th>\n",
       "      <th>n_studies</th>\n",
       "      <th>k</th>\n",
       "      <th>A95</th>\n",
       "      <th>csd</th>\n",
       "      <th>plon</th>\n",
       "      <th>plat</th>\n",
       "      <th>method</th>\n",
       "    </tr>\n",
       "  </thead>\n",
       "  <tbody>\n",
       "    <tr>\n",
       "      <th>0</th>\n",
       "      <td>0.0</td>\n",
       "      <td>308.0</td>\n",
       "      <td>15.0</td>\n",
       "      <td>22.847346</td>\n",
       "      <td>1.713794</td>\n",
       "      <td>16.945998</td>\n",
       "      <td>-45.430085</td>\n",
       "      <td>-88.076649</td>\n",
       "      <td>RM_classic_VGPs</td>\n",
       "    </tr>\n",
       "    <tr>\n",
       "      <th>1</th>\n",
       "      <td>5.0</td>\n",
       "      <td>310.0</td>\n",
       "      <td>15.0</td>\n",
       "      <td>22.741800</td>\n",
       "      <td>1.712371</td>\n",
       "      <td>16.985276</td>\n",
       "      <td>-45.145112</td>\n",
       "      <td>-87.982941</td>\n",
       "      <td>RM_classic_VGPs</td>\n",
       "    </tr>\n",
       "    <tr>\n",
       "      <th>2</th>\n",
       "      <td>10.0</td>\n",
       "      <td>349.0</td>\n",
       "      <td>17.0</td>\n",
       "      <td>21.923213</td>\n",
       "      <td>1.644685</td>\n",
       "      <td>17.299475</td>\n",
       "      <td>-31.896117</td>\n",
       "      <td>-87.275556</td>\n",
       "      <td>RM_classic_VGPs</td>\n",
       "    </tr>\n",
       "  </tbody>\n",
       "</table>\n",
       "</div>"
      ],
      "text/plain": [
       "    age      N  n_studies          k       A95        csd       plon  \\\n",
       "0   0.0  308.0       15.0  22.847346  1.713794  16.945998 -45.430085   \n",
       "1   5.0  310.0       15.0  22.741800  1.712371  16.985276 -45.145112   \n",
       "2  10.0  349.0       17.0  21.923213  1.644685  17.299475 -31.896117   \n",
       "\n",
       "        plat           method  \n",
       "0 -88.076649  RM_classic_VGPs  \n",
       "1 -87.982941  RM_classic_VGPs  \n",
       "2 -87.275556  RM_classic_VGPs  "
      ]
     },
     "execution_count": 26,
     "metadata": {},
     "output_type": "execute_result"
    }
   ],
   "source": [
    "RM_31_on_VGP.head(3)"
   ]
  },
  {
   "cell_type": "markdown",
   "id": "b5dbc709-a407-4226-87c9-7ca3ff23b894",
   "metadata": {},
   "source": [
    "### 3.2. Running means on random samples (with replacement) from the original dataset to generate an ensemble of possible solution."
   ]
  },
  {
   "cell_type": "code",
   "execution_count": 27,
   "id": "0d0297d5-d2df-42e0-9ad3-8df5852fc441",
   "metadata": {},
   "outputs": [
    {
     "name": "stdout",
     "output_type": "stream",
     "text": [
      "CPU times: user 14.4 s, sys: 113 ms, total: 14.5 s\n",
      "Wall time: 14.6 s\n"
     ]
    }
   ],
   "source": [
    "%%time\n",
    "RM_32_boots_VGPs=running_mean_VGPs_bootstrapped(df_filtered_vgps, 'vgp_lon_SH', 'vgp_lat_SH', 'mean_age', window_length, time_step, max_age, min_age, n_bst = 100)\n",
    "RM_32_boots_VGPs['method']=\"RM_bootstrapped_VGPs_ensemble\"\n",
    "models.append(RM_32_boots_VGPs)"
   ]
  },
  {
   "cell_type": "markdown",
   "id": "e5916bd8-6046-4f15-9928-0fa33fed1549",
   "metadata": {},
   "source": [
    "Set quantiles"
   ]
  },
  {
   "cell_type": "code",
   "execution_count": 28,
   "id": "89553138-cdc6-4b42-a2bd-14a6d565a42a",
   "metadata": {},
   "outputs": [
    {
     "data": {
      "text/html": [
       "<div>\n",
       "<style scoped>\n",
       "    .dataframe tbody tr th:only-of-type {\n",
       "        vertical-align: middle;\n",
       "    }\n",
       "\n",
       "    .dataframe tbody tr th {\n",
       "        vertical-align: top;\n",
       "    }\n",
       "\n",
       "    .dataframe thead th {\n",
       "        text-align: right;\n",
       "    }\n",
       "</style>\n",
       "<table border=\"1\" class=\"dataframe\">\n",
       "  <thead>\n",
       "    <tr style=\"text-align: right;\">\n",
       "      <th></th>\n",
       "      <th>run</th>\n",
       "      <th>N</th>\n",
       "      <th>k</th>\n",
       "      <th>A95</th>\n",
       "      <th>csd</th>\n",
       "      <th>foliation</th>\n",
       "      <th>lineation</th>\n",
       "      <th>collinearity</th>\n",
       "      <th>coplanarity</th>\n",
       "      <th>age</th>\n",
       "      <th>n_studies</th>\n",
       "      <th>plon</th>\n",
       "      <th>plat</th>\n",
       "      <th>method</th>\n",
       "    </tr>\n",
       "  </thead>\n",
       "  <tbody>\n",
       "    <tr>\n",
       "      <th>0</th>\n",
       "      <td>0.0</td>\n",
       "      <td>288.0</td>\n",
       "      <td>21.452094</td>\n",
       "      <td>1.832061</td>\n",
       "      <td>17.488404</td>\n",
       "      <td>0.291192</td>\n",
       "      <td>0.630837</td>\n",
       "      <td>2.166399</td>\n",
       "      <td>0.922029</td>\n",
       "      <td>0.0</td>\n",
       "      <td>15.0</td>\n",
       "      <td>-51.856171</td>\n",
       "      <td>-86.611353</td>\n",
       "      <td>RM_bootstrapped_VGPs_ensemble</td>\n",
       "    </tr>\n",
       "    <tr>\n",
       "      <th>1</th>\n",
       "      <td>0.0</td>\n",
       "      <td>293.0</td>\n",
       "      <td>20.977062</td>\n",
       "      <td>1.837748</td>\n",
       "      <td>17.68531</td>\n",
       "      <td>0.320265</td>\n",
       "      <td>0.584504</td>\n",
       "      <td>1.825064</td>\n",
       "      <td>0.904769</td>\n",
       "      <td>5.0</td>\n",
       "      <td>15.0</td>\n",
       "      <td>-50.815029</td>\n",
       "      <td>-86.215879</td>\n",
       "      <td>RM_bootstrapped_VGPs_ensemble</td>\n",
       "    </tr>\n",
       "    <tr>\n",
       "      <th>2</th>\n",
       "      <td>0.0</td>\n",
       "      <td>332.0</td>\n",
       "      <td>21.266985</td>\n",
       "      <td>1.713534</td>\n",
       "      <td>17.564349</td>\n",
       "      <td>0.262632</td>\n",
       "      <td>0.587776</td>\n",
       "      <td>2.238017</td>\n",
       "      <td>0.850408</td>\n",
       "      <td>10.0</td>\n",
       "      <td>17.0</td>\n",
       "      <td>-39.943320</td>\n",
       "      <td>-85.858235</td>\n",
       "      <td>RM_bootstrapped_VGPs_ensemble</td>\n",
       "    </tr>\n",
       "  </tbody>\n",
       "</table>\n",
       "</div>"
      ],
      "text/plain": [
       "   run      N          k       A95        csd foliation lineation  \\\n",
       "0  0.0  288.0  21.452094  1.832061  17.488404  0.291192  0.630837   \n",
       "1  0.0  293.0  20.977062  1.837748   17.68531  0.320265  0.584504   \n",
       "2  0.0  332.0  21.266985  1.713534  17.564349  0.262632  0.587776   \n",
       "\n",
       "  collinearity coplanarity   age  n_studies       plon       plat  \\\n",
       "0     2.166399    0.922029   0.0       15.0 -51.856171 -86.611353   \n",
       "1     1.825064    0.904769   5.0       15.0 -50.815029 -86.215879   \n",
       "2     2.238017    0.850408  10.0       17.0 -39.943320 -85.858235   \n",
       "\n",
       "                          method  \n",
       "0  RM_bootstrapped_VGPs_ensemble  \n",
       "1  RM_bootstrapped_VGPs_ensemble  \n",
       "2  RM_bootstrapped_VGPs_ensemble  "
      ]
     },
     "execution_count": 28,
     "metadata": {},
     "output_type": "execute_result"
    }
   ],
   "source": [
    "RM_32_quantiles_plat = quantiles(RM_32_boots_VGPs,\"age\",\"plat\") # set quantiles of latitude groupedby age for visualization purposes\n",
    "RM_32_quantiles_plon = quantiles(RM_32_boots_VGPs,\"age\",\"plon\") # set quantiles of longitude groupedby age for visualization purposes\n",
    "RM_32_boots_VGPs.head(3)"
   ]
  },
  {
   "cell_type": "markdown",
   "id": "f4410f95-eb87-4fa8-a5f4-25f3c4007811",
   "metadata": {},
   "source": [
    "### 3.3. Propation of directional error towards the VGP level. \n",
    "We take the original directions as a PDF to generate to generate a pseudo-Dataset that incorporates the uncertinty in the directional space and time. We aaply the running means on a number of $pseudo$-VGPs to generate an ensemble of possible paths"
   ]
  },
  {
   "cell_type": "code",
   "execution_count": null,
   "id": "a2094478-8b8b-4674-8b43-1ea0df4c14bc",
   "metadata": {},
   "outputs": [],
   "source": [
    "%%time\n",
    "RM_33_propagation=running_mean_bootstrapping_direction(df_filtered_vgps,'plon', 'plat', 'age', window_length, time_step, max_age, min_age, n_bst = 100)\n",
    "RM_33_propagation['method']=\"RM_DirErrorPropagated_ensemble\"\n",
    "models.append(RM_33_propagation)"
   ]
  },
  {
   "cell_type": "markdown",
   "id": "a70f4ee3-7aa0-43ee-bb5f-2b2f8ab05a9a",
   "metadata": {},
   "source": [
    "Set quantiles"
   ]
  },
  {
   "cell_type": "code",
   "execution_count": null,
   "id": "02a051ee-d698-4ad6-8c92-c4042c308e09",
   "metadata": {},
   "outputs": [],
   "source": [
    "RM_33_quantiles_plat = quantiles(RM_33_propagation,\"age\",\"plat\") # set quantiles of latitude groupedby age for visualization purposes\n",
    "RM_33_quantiles_plon = quantiles(RM_33_propagation,\"age\",\"plon\") # set quantiles of longitude groupedby age for visualization purposes\n",
    "RM_33_propagation.head(3)"
   ]
  },
  {
   "cell_type": "markdown",
   "id": "9026773b-fb5b-42cd-a38d-4aa3a1c60c8b",
   "metadata": {
    "tags": []
   },
   "source": [
    "## Get APW from Muller et al., 2016 and Torsvik and Cocks, 2017\n",
    "\n",
    "- Müller, R. D., Seton, M., Zahirovic, S., Williams, S. E., Matthews, K. J., Wright, N. M., ... & Cannon, J. (2016). Ocean basin evolution and global-scale plate reorganization events since Pangea breakup. Annual Review of Earth and Planetary Sciences, 44, 107-138. DOI:10.1146/annurev-earth-060115-012211\n",
    "- Torsvik, T. H., & Cocks, L. R. M. (2013). Gondwana from top to base in space and time. Gondwana Research, 24(3-4), 999-1030.\n"
   ]
  },
  {
   "cell_type": "code",
   "execution_count": null,
   "id": "2347700a-bbc0-424e-bff6-007a7af9030b",
   "metadata": {},
   "outputs": [],
   "source": [
    "Torsvik2017_path = np.loadtxt('model_APWP/code_output/NAM_0_60_torsvik_2017.txt', )\n",
    "Torsvik2017_path_df = pd.DataFrame(Torsvik2017_path, columns = ['age','plon', 'plat', 'Euler_angle', 'Euler_lon', 'Euler_lat'])\n",
    "Torsvik2017_path_df = Torsvik2017_path_df[Torsvik2017_path_df['age']>0]\n",
    "Torsvik2017_path_df['method'] = \"plate model\"\n",
    "models.append(Torsvik2017_path_df)\n",
    "\n",
    "Mueller2016_path = np.loadtxt('model_APWP/code_output/NAM_0_60_muller_2016.txt', )\n",
    "Mueller2016_path_df = pd.DataFrame(Mueller2016_path, columns = ['age','plon', 'plat', 'Euler_angle', 'Euler_lon', 'Euler_lat'])\n",
    "Mueller2016_path_df = Mueller2016_path_df[Mueller2016_path_df['age']>0]\n",
    "Mueller2016_path_df['method']=\"plate model\"\n",
    "models.append(Mueller2016_path_df)"
   ]
  },
  {
   "cell_type": "markdown",
   "id": "5092c6a4-b0f1-422a-a472-f6b845ecc97d",
   "metadata": {},
   "source": [
    "Merge"
   ]
  },
  {
   "cell_type": "code",
   "execution_count": null,
   "id": "6f08583a-161f-4dfd-aab8-328fe1a2a1d0",
   "metadata": {},
   "outputs": [],
   "source": [
    "df_all = pd.concat(models, axis=0)\n",
    "df_all.head()"
   ]
  },
  {
   "cell_type": "markdown",
   "id": "0c64dd27-525e-45c4-8392-120b307956bf",
   "metadata": {},
   "source": [
    "# Comparisons plot"
   ]
  },
  {
   "cell_type": "code",
   "execution_count": null,
   "id": "aa9540df-2e29-4a81-ba58-04a51cd07d88",
   "metadata": {},
   "outputs": [],
   "source": [
    "title = \"comparisons\"\n",
    "\n",
    "df_method1=RM_2_ensemble_pseudoVGP\n",
    "df_method2=RM_33_propagation\n",
    "\n",
    "ensemble1_lat = quantiles(df_method1,\"age\",\"plat\") # set quantiles of latitude groupedby age for visualization purposes\n",
    "ensemble1_lon = quantiles(df_method1,\"age\",\"plon\") # set quantiles of longitude groupedby age for visualization purposes\n",
    "ensemble2_lat = quantiles(df_method2,\"age\",\"plat\") # set quantiles of latitude groupedby age for visualization purposes\n",
    "ensemble2_lon = quantiles(df_method2,\"age\",\"plon\") # set quantiles of longitude groupedby age for visualization purposes\n",
    "\n",
    "fig, axes = plt.subplots(2, 1, sharex=True, figsize=(15,6))\n",
    "fig.suptitle(title, fontsize= 18, fontweight ='bold')\n",
    "axes[0].set_title('Latitude (°N)', fontsize=12, fontweight ='bold')\n",
    "axes[1].set_title('Longitude (°E)', fontsize=12, fontweight ='bold')\n",
    "axes[0].set_ylabel(r'Latitude (°N)', fontweight ='bold')\n",
    "axes[1].set_ylabel(r'Longitude (°E)', fontweight ='bold')\n",
    "\n",
    "axes[0].set_ylim(-90,-70)\n",
    "axes[1].set_ylim(-100,60)\n",
    "# LATITUDE\n",
    "axes[0].fill_between(ensemble1_lat.X, ensemble1_lat.q16,ensemble1_lat.q84, color= \"#f98787\", alpha=.20)\n",
    "axes[0].scatter(PC(df_method1,\"age\",\"plat\",\"plon\").X, PC(df_method1,\"age\",\"plat\",\"plon\").PC()[1],color=\"#d12a2a\")\n",
    "axes[0].plot(PC(df_method1,\"age\",\"plat\",\"plon\").X, PC(df_method1,\"age\",\"plat\",\"plon\").PC()[1],color=\"#d12a2a\")\n",
    "\n",
    "axes[0].fill_between(ensemble2_lat.X, ensemble2_lat.q16,ensemble1_lat.q84, color= \"#0E7DC9\", alpha=.20)\n",
    "axes[0].scatter(PC(df_method2,\"age\",\"plat\",\"plon\").X, PC(df_method2,\"age\",\"plat\",\"plon\").PC()[1],color=\"#00497A\")\n",
    "axes[0].plot(PC(df_method2,\"age\",\"plat\",\"plon\").X, PC(df_method2,\"age\",\"plat\",\"plon\").PC()[1],color=\"#00497A\")\n",
    "\n",
    "axes[0].plot(RM_1_classic_by_study.age, RM_1_classic_by_study.plat, '-',color=\"black\") #CLASSIC\n",
    "axes[0].scatter(RM_1_classic_by_study.age, RM_1_classic_by_study.plat, color=\"black\") #CLASSIC\n",
    "\n",
    "\n",
    "# # LONGITUDE\n",
    "axes[1].fill_between(ensemble1_lon.X, ensemble1_lon.q16,ensemble1_lon.q84, color= \"#f9afaf\", alpha=.50,label=\"0.16-0.84 percentiles - Ensemble 1\")\n",
    "axes[1].plot(PC(df_method1,\"age\",\"plat\",\"plon\").X, PC(df_method1,\"age\",\"plat\",\"plon\").PC()[0], '-',color=\"#d12a2a\")\n",
    "axes[1].scatter(PC(df_method1,\"age\",\"plat\",\"plon\").X, PC(df_method1,\"age\",\"plat\",\"plon\").PC()[0],color=\"#d12a2a\")\n",
    "\n",
    "axes[1].fill_between(ensemble2_lon.X, ensemble2_lon.q16,ensemble2_lon.q84, color= \"#0E7DC9\", alpha=.20,label=\"0.16-0.84 percentiles - Ensemble 2\")\n",
    "axes[1].plot(PC(df_method2,\"age\",\"plat\",\"plon\").X, PC(df_method2,\"age\",\"plat\",\"plon\").PC()[0], '-',color=\"#00497A\")\n",
    "axes[1].scatter(PC(df_method2,\"age\",\"plat\",\"plon\").X, PC(df_method2,\"age\",\"plat\",\"plon\").PC()[0],color=\"#00497A\")\n",
    "axes[1].plot(RM_1_classic_by_study.age, RM_1_classic_by_study.plon, '-',color=\"black\", label = \"RM classic\") #CLASSIC\n",
    "axes[1].scatter(RM_1_classic_by_study.age, RM_1_classic_by_study.plon, color=\"black\") #CLASSIC\n",
    "\n",
    "plt.legend(loc=\"upper left\")"
   ]
  },
  {
   "cell_type": "markdown",
   "id": "4e828244-5995-4398-af59-b46573afb660",
   "metadata": {},
   "source": [
    "# APWPs vs Plate Models Visualizations"
   ]
  },
  {
   "cell_type": "code",
   "execution_count": null,
   "id": "b7a9c710-2a81-4ce0-a9f4-527fab77efbd",
   "metadata": {},
   "outputs": [],
   "source": [
    "title = \"Comparing against plate models (M2016 and T&C2017)\"\n",
    "\n",
    "fig, axes = plt.subplots(2, 1, sharex=True, figsize=(15,6))\n",
    "fig.suptitle(title, fontsize= 18, fontweight ='bold')\n",
    "axes[0].set_title('Latitude (°N)', fontsize=12, fontweight ='bold')\n",
    "axes[1].set_title('Longitude (°E)', fontsize=12, fontweight ='bold')\n",
    "axes[0].set_ylabel(r'Latitude (°N)', fontweight ='bold')\n",
    "axes[1].set_ylabel(r'Longitude (°E)', fontweight ='bold')\n",
    "# LATITUDE\n",
    "\n",
    "axes[0].plot(Mueller2016_path_df.age, Mueller2016_path_df.plat, '-',color=\"#d12a2a\")\n",
    "# axes[0].scatter(Mueller2016_path_df.age, Mueller2016_path_df.plat,s = 1, color=\"#d12a2a\")\n",
    "axes[0].plot(Torsvik2017_path_df.age, Torsvik2017_path_df.plat, '-',color=\"#00497A\") #CLASSIC\n",
    "# axes[0].scatter(Torsvik2017_path_df.age, Torsvik2017_path_df.plat, color=\"#00497A\") #CLASSIC\n",
    "axes[0].scatter(ensemble2_lat.X, ensemble2_lat.q50,color=\"black\")\n",
    "# LONGITUDE\n",
    "\n",
    "axes[1].plot(Mueller2016_path_df.age, Mueller2016_path_df.plon, '-',color=\"#d12a2a\", label = \"Muller2016\")\n",
    "# axes[1].scatter(Mueller2016_path_df.age, Mueller2016_path_df.plon,color=\"#d12a2a\")\n",
    "axes[1].plot(Torsvik2017_path_df.age, Torsvik2017_path_df.plon, '-',color=\"#00497A\", label = \"T&C2017\") #CLASSIC\n",
    "# axes[1].scatter(Torsvik2017_path_df.age, Torsvik2017_path_df.plon, color=\"#00497A\") #CLASSIC\n",
    "axes[1].scatter(ensemble2_lon.X, ensemble2_lon.q50,color=\"black\")\n",
    "\n",
    "# axes[1].set_ylim(-100, 50)\n",
    "plt.legend(loc=\"upper left\")"
   ]
  },
  {
   "cell_type": "code",
   "execution_count": null,
   "id": "385570f0-9cb2-41b1-9994-760a72139207",
   "metadata": {},
   "outputs": [],
   "source": []
  }
 ],
 "metadata": {
  "kernelspec": {
   "display_name": "Python 3 (ipykernel)",
   "language": "python",
   "name": "python3"
  },
  "language_info": {
   "codemirror_mode": {
    "name": "ipython",
    "version": 3
   },
   "file_extension": ".py",
   "mimetype": "text/x-python",
   "name": "python",
   "nbconvert_exporter": "python",
   "pygments_lexer": "ipython3",
   "version": "3.10.0"
  }
 },
 "nbformat": 4,
 "nbformat_minor": 5
}
