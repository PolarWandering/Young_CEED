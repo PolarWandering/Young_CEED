{
 "cells": [
  {
   "cell_type": "code",
   "execution_count": 1,
   "id": "d6036c64-5f6c-4cd9-840a-bf43c14ee39e",
   "metadata": {
    "tags": []
   },
   "outputs": [],
   "source": [
    "import os\n",
    "import numpy as np\n",
    "import pandas as pd\n",
    "pd.set_option('display.max_columns', None)\n",
    "from pmagpy import ipmag, pmag\n",
    "import matplotlib.pyplot as plt\n",
    "import seaborn as sns\n",
    "sns.set_style(\"white\")\n",
    "from vgptools.auxiliar import (get_files_in_directory, spherical2cartesian, \n",
    "                               cartesian2spherical, GCD_cartesian, shape)                              \n",
    "from vgptools.utils_compilation import dfs_vgps_recomputed_poles\n",
    "from vgptools.utils_APWPs import running_mean_APWP, running_mean_APWP_shape, RM_stats, get_pseudo_vgps, get_vgps_sampling_direction, running_mean_VGPs_bootstrapped\n",
    "\n",
    "from vgptools.utils_visualization import  RM_stats, plot_VGPs_and_APWP, plot_APWP_RM_ensemble"
   ]
  },
  {
   "cell_type": "markdown",
   "id": "090d6cf3-317a-439b-9d69-5ee6aa0655b9",
   "metadata": {},
   "source": [
    "## Compiles a DataFrame for both, the VGPs and the recomputed poles by study"
   ]
  },
  {
   "cell_type": "code",
   "execution_count": 2,
   "id": "46a2b299-9fa6-4f1c-85aa-ca59b701edc5",
   "metadata": {},
   "outputs": [],
   "source": [
    "current_path = os.getcwd()\n",
    "data_path_VGP = current_path + '/data/vgp_database'"
   ]
  },
  {
   "cell_type": "code",
   "execution_count": 3,
   "id": "9f974200-5004-48d3-9429-8b7374448f14",
   "metadata": {},
   "outputs": [],
   "source": [
    "df_filtered_vgps, df_pole_compilation = dfs_vgps_recomputed_poles(data_path_VGP, by_study = True)"
   ]
  },
  {
   "cell_type": "markdown",
   "id": "55ec846e-fc9e-4b81-8791-942dbe60a9fb",
   "metadata": {},
   "source": [
    "# Set the hyperparameters for further comparissons."
   ]
  },
  {
   "cell_type": "code",
   "execution_count": 4,
   "id": "f8a972ef-2ab5-4ac9-881e-58a0f6c533fe",
   "metadata": {},
   "outputs": [],
   "source": [
    "min_age = 0\n",
    "max_age = 65\n",
    "window_length = 20\n",
    "time_step = 10"
   ]
  },
  {
   "cell_type": "markdown",
   "id": "1cd7ede2-b7f1-4b12-959c-00d97148e910",
   "metadata": {},
   "source": [
    "## Running means classic approach on poles"
   ]
  },
  {
   "cell_type": "code",
   "execution_count": 5,
   "id": "6b187aab-817f-4934-9115-c1bc70c1b688",
   "metadata": {},
   "outputs": [
    {
     "data": {
      "text/html": [
       "<div>\n",
       "<style scoped>\n",
       "    .dataframe tbody tr th:only-of-type {\n",
       "        vertical-align: middle;\n",
       "    }\n",
       "\n",
       "    .dataframe tbody tr th {\n",
       "        vertical-align: top;\n",
       "    }\n",
       "\n",
       "    .dataframe thead th {\n",
       "        text-align: right;\n",
       "    }\n",
       "</style>\n",
       "<table border=\"1\" class=\"dataframe\">\n",
       "  <thead>\n",
       "    <tr style=\"text-align: right;\">\n",
       "      <th></th>\n",
       "      <th>age</th>\n",
       "      <th>N</th>\n",
       "      <th>n_studies</th>\n",
       "      <th>k</th>\n",
       "      <th>A95</th>\n",
       "      <th>csd</th>\n",
       "      <th>plon</th>\n",
       "      <th>plat</th>\n",
       "    </tr>\n",
       "  </thead>\n",
       "  <tbody>\n",
       "    <tr>\n",
       "      <th>0</th>\n",
       "      <td>0.0</td>\n",
       "      <td>15.0</td>\n",
       "      <td>15.0</td>\n",
       "      <td>157.806367</td>\n",
       "      <td>3.053286</td>\n",
       "      <td>6.447966</td>\n",
       "      <td>292.836413</td>\n",
       "      <td>-87.015353</td>\n",
       "    </tr>\n",
       "    <tr>\n",
       "      <th>1</th>\n",
       "      <td>10.0</td>\n",
       "      <td>15.0</td>\n",
       "      <td>15.0</td>\n",
       "      <td>157.806367</td>\n",
       "      <td>3.053286</td>\n",
       "      <td>6.447966</td>\n",
       "      <td>292.836413</td>\n",
       "      <td>-87.015353</td>\n",
       "    </tr>\n",
       "    <tr>\n",
       "      <th>2</th>\n",
       "      <td>20.0</td>\n",
       "      <td>4.0</td>\n",
       "      <td>4.0</td>\n",
       "      <td>694.396487</td>\n",
       "      <td>3.489190</td>\n",
       "      <td>3.073840</td>\n",
       "      <td>344.010800</td>\n",
       "      <td>-81.836813</td>\n",
       "    </tr>\n",
       "  </tbody>\n",
       "</table>\n",
       "</div>"
      ],
      "text/plain": [
       "    age     N  n_studies           k       A95       csd        plon  \\\n",
       "0   0.0  15.0       15.0  157.806367  3.053286  6.447966  292.836413   \n",
       "1  10.0  15.0       15.0  157.806367  3.053286  6.447966  292.836413   \n",
       "2  20.0   4.0        4.0  694.396487  3.489190  3.073840  344.010800   \n",
       "\n",
       "        plat  \n",
       "0 -87.015353  \n",
       "1 -87.015353  \n",
       "2 -81.836813  "
      ]
     },
     "execution_count": 5,
     "metadata": {},
     "output_type": "execute_result"
    }
   ],
   "source": [
    "RM_classic_by_study = running_mean_APWP (df_pole_compilation, \"Plon\", \"Plat\", \"mean_age\", window_length, time_step, max_age, min_age)\n",
    "RM_classic_by_study.head(3)"
   ]
  },
  {
   "cell_type": "markdown",
   "id": "f784289e-7ba8-4189-aa18-15a6be863226",
   "metadata": {},
   "source": [
    "## Running means ensemble from pseudo-VGPs approach (Vaes et al. 2022)"
   ]
  },
  {
   "cell_type": "code",
   "execution_count": 6,
   "id": "566a1884-6483-46a5-a8c8-d0a25beb3719",
   "metadata": {},
   "outputs": [],
   "source": [
    "RM_ensemble_pseudoVGP = pd.DataFrame(columns=['run','n_studies','k','A95','csd'])\n",
    "\n",
    "for i in range(100):   \n",
    "    pseudo_vgps_temp = get_pseudo_vgps(df_pole_compilation)\n",
    "    RM_APWP_parametric_temp = pd.DataFrame()\n",
    "    RM_APWP_parametric_temp = running_mean_APWP(pseudo_vgps_temp, 'Plon', 'Plat', 'mean_age', window_length, time_step, max_age, min_age)\n",
    "    RM_APWP_parametric_temp['run'] = i\n",
    "    RM_ensemble_pseudoVGP = RM_ensemble_pseudoVGP.append(RM_APWP_parametric_temp, ignore_index=True)"
   ]
  },
  {
   "cell_type": "code",
   "execution_count": 7,
   "id": "7deee0e8-3201-49ea-a68d-5a7dce7f3d92",
   "metadata": {},
   "outputs": [
    {
     "data": {
      "text/html": [
       "<div>\n",
       "<style scoped>\n",
       "    .dataframe tbody tr th:only-of-type {\n",
       "        vertical-align: middle;\n",
       "    }\n",
       "\n",
       "    .dataframe tbody tr th {\n",
       "        vertical-align: top;\n",
       "    }\n",
       "\n",
       "    .dataframe thead th {\n",
       "        text-align: right;\n",
       "    }\n",
       "</style>\n",
       "<table border=\"1\" class=\"dataframe\">\n",
       "  <thead>\n",
       "    <tr style=\"text-align: right;\">\n",
       "      <th></th>\n",
       "      <th>run</th>\n",
       "      <th>n_studies</th>\n",
       "      <th>k</th>\n",
       "      <th>A95</th>\n",
       "      <th>csd</th>\n",
       "      <th>age</th>\n",
       "      <th>N</th>\n",
       "      <th>plon</th>\n",
       "      <th>plat</th>\n",
       "    </tr>\n",
       "  </thead>\n",
       "  <tbody>\n",
       "    <tr>\n",
       "      <th>0</th>\n",
       "      <td>0</td>\n",
       "      <td>15.0</td>\n",
       "      <td>22.665785</td>\n",
       "      <td>1.682955</td>\n",
       "      <td>17.013734</td>\n",
       "      <td>0.0</td>\n",
       "      <td>322.0</td>\n",
       "      <td>302.160608</td>\n",
       "      <td>-86.672277</td>\n",
       "    </tr>\n",
       "    <tr>\n",
       "      <th>1</th>\n",
       "      <td>0</td>\n",
       "      <td>18.0</td>\n",
       "      <td>19.218187</td>\n",
       "      <td>1.643854</td>\n",
       "      <td>18.476888</td>\n",
       "      <td>10.0</td>\n",
       "      <td>401.0</td>\n",
       "      <td>313.408523</td>\n",
       "      <td>-85.986833</td>\n",
       "    </tr>\n",
       "    <tr>\n",
       "      <th>2</th>\n",
       "      <td>0</td>\n",
       "      <td>9.0</td>\n",
       "      <td>10.173111</td>\n",
       "      <td>2.874204</td>\n",
       "      <td>25.395580</td>\n",
       "      <td>20.0</td>\n",
       "      <td>261.0</td>\n",
       "      <td>335.540807</td>\n",
       "      <td>-81.617489</td>\n",
       "    </tr>\n",
       "  </tbody>\n",
       "</table>\n",
       "</div>"
      ],
      "text/plain": [
       "  run  n_studies          k       A95        csd   age      N        plon  \\\n",
       "0   0       15.0  22.665785  1.682955  17.013734   0.0  322.0  302.160608   \n",
       "1   0       18.0  19.218187  1.643854  18.476888  10.0  401.0  313.408523   \n",
       "2   0        9.0  10.173111  2.874204  25.395580  20.0  261.0  335.540807   \n",
       "\n",
       "        plat  \n",
       "0 -86.672277  \n",
       "1 -85.986833  \n",
       "2 -81.617489  "
      ]
     },
     "execution_count": 7,
     "metadata": {},
     "output_type": "execute_result"
    }
   ],
   "source": [
    "RM_ensemble_pseudoVGP.head(3)"
   ]
  },
  {
   "cell_type": "markdown",
   "id": "4ec55f67-eafa-444e-a421-433213cea533",
   "metadata": {},
   "source": [
    "## Running means on VGPs. Two different approachs as follows:\n",
    "1. Running means on the computed dataset."
   ]
  },
  {
   "cell_type": "code",
   "execution_count": 8,
   "id": "fabfa78d-bb26-4493-8ab3-0a4236927772",
   "metadata": {},
   "outputs": [],
   "source": [
    "RM_on_VGP = running_mean_APWP(df_filtered_vgps, 'vgp_lon_SH', 'vgp_lat_SH', 'mean_age', window_length, time_step, max_age, min_age)"
   ]
  },
  {
   "cell_type": "code",
   "execution_count": 9,
   "id": "832761e4-bbd1-4694-9671-5252a28e0b78",
   "metadata": {},
   "outputs": [
    {
     "data": {
      "text/html": [
       "<div>\n",
       "<style scoped>\n",
       "    .dataframe tbody tr th:only-of-type {\n",
       "        vertical-align: middle;\n",
       "    }\n",
       "\n",
       "    .dataframe tbody tr th {\n",
       "        vertical-align: top;\n",
       "    }\n",
       "\n",
       "    .dataframe thead th {\n",
       "        text-align: right;\n",
       "    }\n",
       "</style>\n",
       "<table border=\"1\" class=\"dataframe\">\n",
       "  <thead>\n",
       "    <tr style=\"text-align: right;\">\n",
       "      <th></th>\n",
       "      <th>age</th>\n",
       "      <th>N</th>\n",
       "      <th>n_studies</th>\n",
       "      <th>k</th>\n",
       "      <th>A95</th>\n",
       "      <th>csd</th>\n",
       "      <th>plon</th>\n",
       "      <th>plat</th>\n",
       "    </tr>\n",
       "  </thead>\n",
       "  <tbody>\n",
       "    <tr>\n",
       "      <th>0</th>\n",
       "      <td>0.0</td>\n",
       "      <td>305.0</td>\n",
       "      <td>15.0</td>\n",
       "      <td>23.294563</td>\n",
       "      <td>1.704883</td>\n",
       "      <td>16.782542</td>\n",
       "      <td>317.083230</td>\n",
       "      <td>-87.945102</td>\n",
       "    </tr>\n",
       "    <tr>\n",
       "      <th>1</th>\n",
       "      <td>10.0</td>\n",
       "      <td>330.0</td>\n",
       "      <td>16.0</td>\n",
       "      <td>21.201852</td>\n",
       "      <td>1.721511</td>\n",
       "      <td>17.591307</td>\n",
       "      <td>327.300988</td>\n",
       "      <td>-87.482422</td>\n",
       "    </tr>\n",
       "    <tr>\n",
       "      <th>2</th>\n",
       "      <td>20.0</td>\n",
       "      <td>207.0</td>\n",
       "      <td>9.0</td>\n",
       "      <td>10.117603</td>\n",
       "      <td>3.239569</td>\n",
       "      <td>25.465148</td>\n",
       "      <td>341.959534</td>\n",
       "      <td>-82.115848</td>\n",
       "    </tr>\n",
       "  </tbody>\n",
       "</table>\n",
       "</div>"
      ],
      "text/plain": [
       "    age      N  n_studies          k       A95        csd        plon  \\\n",
       "0   0.0  305.0       15.0  23.294563  1.704883  16.782542  317.083230   \n",
       "1  10.0  330.0       16.0  21.201852  1.721511  17.591307  327.300988   \n",
       "2  20.0  207.0        9.0  10.117603  3.239569  25.465148  341.959534   \n",
       "\n",
       "        plat  \n",
       "0 -87.945102  \n",
       "1 -87.482422  \n",
       "2 -82.115848  "
      ]
     },
     "execution_count": 9,
     "metadata": {},
     "output_type": "execute_result"
    }
   ],
   "source": [
    "RM_on_VGP.head(3)"
   ]
  },
  {
   "cell_type": "markdown",
   "id": "b5dbc709-a407-4226-87c9-7ca3ff23b894",
   "metadata": {},
   "source": [
    "2. Running means bootstrapping the sample many times to generate an ensemble."
   ]
  },
  {
   "cell_type": "code",
   "execution_count": 10,
   "id": "0d0297d5-d2df-42e0-9ad3-8df5852fc441",
   "metadata": {},
   "outputs": [],
   "source": [
    "RM_ensemble_VGPs=running_mean_VGPs_bootstrapped(df_filtered_vgps, 'vgp_lon_SH', 'vgp_lat_SH', 'mean_age', window_length, time_step, max_age, min_age, n_bst = 200)"
   ]
  },
  {
   "cell_type": "code",
   "execution_count": 11,
   "id": "89553138-cdc6-4b42-a2bd-14a6d565a42a",
   "metadata": {},
   "outputs": [
    {
     "data": {
      "text/html": [
       "<div>\n",
       "<style scoped>\n",
       "    .dataframe tbody tr th:only-of-type {\n",
       "        vertical-align: middle;\n",
       "    }\n",
       "\n",
       "    .dataframe tbody tr th {\n",
       "        vertical-align: top;\n",
       "    }\n",
       "\n",
       "    .dataframe thead th {\n",
       "        text-align: right;\n",
       "    }\n",
       "</style>\n",
       "<table border=\"1\" class=\"dataframe\">\n",
       "  <thead>\n",
       "    <tr style=\"text-align: right;\">\n",
       "      <th></th>\n",
       "      <th>run</th>\n",
       "      <th>N</th>\n",
       "      <th>k</th>\n",
       "      <th>A95</th>\n",
       "      <th>csd</th>\n",
       "      <th>foliation</th>\n",
       "      <th>lineation</th>\n",
       "      <th>collinearity</th>\n",
       "      <th>coplanarity</th>\n",
       "      <th>age</th>\n",
       "      <th>n_studies</th>\n",
       "      <th>plon</th>\n",
       "      <th>plat</th>\n",
       "    </tr>\n",
       "  </thead>\n",
       "  <tbody>\n",
       "    <tr>\n",
       "      <th>0</th>\n",
       "      <td>0.0</td>\n",
       "      <td>320.0</td>\n",
       "      <td>22.978951</td>\n",
       "      <td>1.676161</td>\n",
       "      <td>16.897401</td>\n",
       "      <td>0.381371</td>\n",
       "      <td>0.512217</td>\n",
       "      <td>1.343091</td>\n",
       "      <td>0.893588</td>\n",
       "      <td>0.0</td>\n",
       "      <td>14.0</td>\n",
       "      <td>319.609983</td>\n",
       "      <td>-88.020802</td>\n",
       "    </tr>\n",
       "    <tr>\n",
       "      <th>1</th>\n",
       "      <td>0.0</td>\n",
       "      <td>348.0</td>\n",
       "      <td>20.577123</td>\n",
       "      <td>1.702736</td>\n",
       "      <td>17.856350</td>\n",
       "      <td>0.380376</td>\n",
       "      <td>0.492190</td>\n",
       "      <td>1.293958</td>\n",
       "      <td>0.872566</td>\n",
       "      <td>10.0</td>\n",
       "      <td>15.0</td>\n",
       "      <td>325.396604</td>\n",
       "      <td>-86.842506</td>\n",
       "    </tr>\n",
       "    <tr>\n",
       "      <th>2</th>\n",
       "      <td>0.0</td>\n",
       "      <td>208.0</td>\n",
       "      <td>10.445884</td>\n",
       "      <td>3.175078</td>\n",
       "      <td>25.061809</td>\n",
       "      <td>0.235559</td>\n",
       "      <td>0.496493</td>\n",
       "      <td>2.107725</td>\n",
       "      <td>0.732052</td>\n",
       "      <td>20.0</td>\n",
       "      <td>9.0</td>\n",
       "      <td>336.271520</td>\n",
       "      <td>-78.925226</td>\n",
       "    </tr>\n",
       "  </tbody>\n",
       "</table>\n",
       "</div>"
      ],
      "text/plain": [
       "   run      N          k       A95        csd  foliation  lineation  \\\n",
       "0  0.0  320.0  22.978951  1.676161  16.897401   0.381371   0.512217   \n",
       "1  0.0  348.0  20.577123  1.702736  17.856350   0.380376   0.492190   \n",
       "2  0.0  208.0  10.445884  3.175078  25.061809   0.235559   0.496493   \n",
       "\n",
       "   collinearity  coplanarity   age  n_studies        plon       plat  \n",
       "0      1.343091     0.893588   0.0       14.0  319.609983 -88.020802  \n",
       "1      1.293958     0.872566  10.0       15.0  325.396604 -86.842506  \n",
       "2      2.107725     0.732052  20.0        9.0  336.271520 -78.925226  "
      ]
     },
     "execution_count": 11,
     "metadata": {},
     "output_type": "execute_result"
    }
   ],
   "source": [
    "RM_ensemble_VGPs.head(3)"
   ]
  },
  {
   "cell_type": "code",
   "execution_count": null,
   "id": "ced1caad-afec-4790-b956-c0683457a598",
   "metadata": {},
   "outputs": [],
   "source": []
  }
 ],
 "metadata": {
  "kernelspec": {
   "display_name": "Python 3 (ipykernel)",
   "language": "python",
   "name": "python3"
  },
  "language_info": {
   "codemirror_mode": {
    "name": "ipython",
    "version": 3
   },
   "file_extension": ".py",
   "mimetype": "text/x-python",
   "name": "python",
   "nbconvert_exporter": "python",
   "pygments_lexer": "ipython3",
   "version": "3.10.0"
  }
 },
 "nbformat": 4,
 "nbformat_minor": 5
}
