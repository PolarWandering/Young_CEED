{
 "cells": [
  {
   "cell_type": "code",
   "execution_count": 1,
   "id": "d6036c64-5f6c-4cd9-840a-bf43c14ee39e",
   "metadata": {
    "tags": []
   },
   "outputs": [],
   "source": [
    "import os\n",
    "import numpy as np\n",
    "import pandas as pd\n",
    "pd.set_option('display.max_columns', None)\n",
    "from pmagpy import ipmag, pmag\n",
    "import matplotlib.pyplot as plt\n",
    "import seaborn as sns\n",
    "sns.set_style(\"white\")\n",
    "from vgptools.auxiliar import (get_files_in_directory, spherical2cartesian, \n",
    "                               cartesian2spherical, GCD_cartesian, shape)                              \n",
    "from vgptools.utils_compilation import dfs_vgps_recomputed_poles\n",
    "from vgptools.utils_APWPs import (running_mean_APWP, running_mean_APWP_shape, RM_stats, get_pseudo_vgps, get_vgps_sampling_direction, \n",
    "                                  running_mean_VGPs_bootstrapped, running_mean_bootstrapping_direction)\n",
    "\n",
    "from vgptools.utils_visualization import  RM_stats, plot_VGPs_and_APWP, plot_APWP_RM_ensemble, quantiles"
   ]
  },
  {
   "cell_type": "markdown",
   "id": "090d6cf3-317a-439b-9d69-5ee6aa0655b9",
   "metadata": {},
   "source": [
    "## Compiles a DataFrame for both, the VGPs and the recomputed poles by study"
   ]
  },
  {
   "cell_type": "code",
   "execution_count": 2,
   "id": "46a2b299-9fa6-4f1c-85aa-ca59b701edc5",
   "metadata": {},
   "outputs": [],
   "source": [
    "current_path = os.getcwd()\n",
    "data_path_VGP = current_path + '/data/vgp_database'"
   ]
  },
  {
   "cell_type": "code",
   "execution_count": 3,
   "id": "9f974200-5004-48d3-9429-8b7374448f14",
   "metadata": {},
   "outputs": [],
   "source": [
    "df_filtered_vgps, df_pole_compilation = dfs_vgps_recomputed_poles(data_path_VGP, by_study = False)"
   ]
  },
  {
   "cell_type": "markdown",
   "id": "55ec846e-fc9e-4b81-8791-942dbe60a9fb",
   "metadata": {},
   "source": [
    "# Set the hyperparameters for further comparissons."
   ]
  },
  {
   "cell_type": "code",
   "execution_count": 18,
   "id": "f8a972ef-2ab5-4ac9-881e-58a0f6c533fe",
   "metadata": {},
   "outputs": [],
   "source": [
    "min_age = 0\n",
    "max_age = 65\n",
    "window_length = 10\n",
    "time_step = 2"
   ]
  },
  {
   "cell_type": "markdown",
   "id": "1cd7ede2-b7f1-4b12-959c-00d97148e910",
   "metadata": {},
   "source": [
    "### 1. Running means classic approach on poles"
   ]
  },
  {
   "cell_type": "code",
   "execution_count": 19,
   "id": "6b187aab-817f-4934-9115-c1bc70c1b688",
   "metadata": {},
   "outputs": [
    {
     "data": {
      "text/html": [
       "<div>\n",
       "<style scoped>\n",
       "    .dataframe tbody tr th:only-of-type {\n",
       "        vertical-align: middle;\n",
       "    }\n",
       "\n",
       "    .dataframe tbody tr th {\n",
       "        vertical-align: top;\n",
       "    }\n",
       "\n",
       "    .dataframe thead th {\n",
       "        text-align: right;\n",
       "    }\n",
       "</style>\n",
       "<table border=\"1\" class=\"dataframe\">\n",
       "  <thead>\n",
       "    <tr style=\"text-align: right;\">\n",
       "      <th></th>\n",
       "      <th>age</th>\n",
       "      <th>N</th>\n",
       "      <th>n_studies</th>\n",
       "      <th>k</th>\n",
       "      <th>A95</th>\n",
       "      <th>csd</th>\n",
       "      <th>plon</th>\n",
       "      <th>plat</th>\n",
       "    </tr>\n",
       "  </thead>\n",
       "  <tbody>\n",
       "    <tr>\n",
       "      <th>0</th>\n",
       "      <td>0.0</td>\n",
       "      <td>12.0</td>\n",
       "      <td>12.0</td>\n",
       "      <td>147.655547</td>\n",
       "      <td>3.583738</td>\n",
       "      <td>6.665921</td>\n",
       "      <td>-70.071867</td>\n",
       "      <td>-87.139798</td>\n",
       "    </tr>\n",
       "    <tr>\n",
       "      <th>1</th>\n",
       "      <td>2.0</td>\n",
       "      <td>15.0</td>\n",
       "      <td>13.0</td>\n",
       "      <td>137.063577</td>\n",
       "      <td>3.277723</td>\n",
       "      <td>6.918692</td>\n",
       "      <td>-64.251763</td>\n",
       "      <td>-87.179527</td>\n",
       "    </tr>\n",
       "  </tbody>\n",
       "</table>\n",
       "</div>"
      ],
      "text/plain": [
       "   age     N  n_studies           k       A95       csd       plon       plat\n",
       "0  0.0  12.0       12.0  147.655547  3.583738  6.665921 -70.071867 -87.139798\n",
       "1  2.0  15.0       13.0  137.063577  3.277723  6.918692 -64.251763 -87.179527"
      ]
     },
     "execution_count": 19,
     "metadata": {},
     "output_type": "execute_result"
    }
   ],
   "source": [
    "RM_classic_by_study = running_mean_APWP (df_pole_compilation, \"Plon\", \"Plat\", \"mean_age\", window_length, time_step, max_age, min_age)\n",
    "RM_classic_by_study.head(2)"
   ]
  },
  {
   "cell_type": "markdown",
   "id": "f784289e-7ba8-4189-aa18-15a6be863226",
   "metadata": {},
   "source": [
    "### 2. Running means ensemble from pseudo-VGPs approach (Vaes et al. 2022)"
   ]
  },
  {
   "cell_type": "code",
   "execution_count": 20,
   "id": "566a1884-6483-46a5-a8c8-d0a25beb3719",
   "metadata": {},
   "outputs": [],
   "source": [
    "RM_ensemble_pseudoVGP = pd.DataFrame(columns=['run','n_studies','k','A95','csd'])\n",
    "\n",
    "for i in range(100):   \n",
    "    pseudo_vgps_temp = get_pseudo_vgps(df_pole_compilation)\n",
    "    RM_APWP_parametric_temp = pd.DataFrame()\n",
    "    RM_APWP_parametric_temp = running_mean_APWP(pseudo_vgps_temp, 'Plon', 'Plat', 'mean_age', window_length, time_step, max_age, min_age)\n",
    "    RM_APWP_parametric_temp['run'] = i\n",
    "\n",
    "    RM_ensemble_pseudoVGP = RM_ensemble_pseudoVGP.append(RM_APWP_parametric_temp, ignore_index=True)\n",
    "RM_ensemble_pseudoVGP['plon'] = RM_ensemble_pseudoVGP.apply(lambda row: row.plon - 360 if row.plon > 180 else row.plon, axis =1)    "
   ]
  },
  {
   "cell_type": "code",
   "execution_count": 21,
   "id": "7deee0e8-3201-49ea-a68d-5a7dce7f3d92",
   "metadata": {},
   "outputs": [
    {
     "data": {
      "text/html": [
       "<div>\n",
       "<style scoped>\n",
       "    .dataframe tbody tr th:only-of-type {\n",
       "        vertical-align: middle;\n",
       "    }\n",
       "\n",
       "    .dataframe tbody tr th {\n",
       "        vertical-align: top;\n",
       "    }\n",
       "\n",
       "    .dataframe thead th {\n",
       "        text-align: right;\n",
       "    }\n",
       "</style>\n",
       "<table border=\"1\" class=\"dataframe\">\n",
       "  <thead>\n",
       "    <tr style=\"text-align: right;\">\n",
       "      <th></th>\n",
       "      <th>run</th>\n",
       "      <th>n_studies</th>\n",
       "      <th>k</th>\n",
       "      <th>A95</th>\n",
       "      <th>csd</th>\n",
       "      <th>age</th>\n",
       "      <th>N</th>\n",
       "      <th>plon</th>\n",
       "      <th>plat</th>\n",
       "    </tr>\n",
       "  </thead>\n",
       "  <tbody>\n",
       "    <tr>\n",
       "      <th>0</th>\n",
       "      <td>0</td>\n",
       "      <td>15.0</td>\n",
       "      <td>25.654891</td>\n",
       "      <td>1.753286</td>\n",
       "      <td>15.991895</td>\n",
       "      <td>0.0</td>\n",
       "      <td>261.0</td>\n",
       "      <td>-41.151807</td>\n",
       "      <td>-88.018624</td>\n",
       "    </tr>\n",
       "    <tr>\n",
       "      <th>1</th>\n",
       "      <td>0</td>\n",
       "      <td>15.0</td>\n",
       "      <td>24.989718</td>\n",
       "      <td>1.685732</td>\n",
       "      <td>16.203332</td>\n",
       "      <td>2.0</td>\n",
       "      <td>290.0</td>\n",
       "      <td>-35.587777</td>\n",
       "      <td>-88.224786</td>\n",
       "    </tr>\n",
       "    <tr>\n",
       "      <th>2</th>\n",
       "      <td>0</td>\n",
       "      <td>15.0</td>\n",
       "      <td>24.195807</td>\n",
       "      <td>1.636753</td>\n",
       "      <td>16.467018</td>\n",
       "      <td>4.0</td>\n",
       "      <td>318.0</td>\n",
       "      <td>-20.290073</td>\n",
       "      <td>-88.390320</td>\n",
       "    </tr>\n",
       "  </tbody>\n",
       "</table>\n",
       "</div>"
      ],
      "text/plain": [
       "  run  n_studies          k       A95        csd  age      N       plon  \\\n",
       "0   0       15.0  25.654891  1.753286  15.991895  0.0  261.0 -41.151807   \n",
       "1   0       15.0  24.989718  1.685732  16.203332  2.0  290.0 -35.587777   \n",
       "2   0       15.0  24.195807  1.636753  16.467018  4.0  318.0 -20.290073   \n",
       "\n",
       "        plat  \n",
       "0 -88.018624  \n",
       "1 -88.224786  \n",
       "2 -88.390320  "
      ]
     },
     "execution_count": 21,
     "metadata": {},
     "output_type": "execute_result"
    }
   ],
   "source": [
    "RM_pseudoVGP_quant_plat = quantiles(RM_ensemble_pseudoVGP,\"age\",\"plat\") # set quantiles of latitude groupedby age for visualization purposes\n",
    "RM_pseudoVGP_quant_plon = quantiles(RM_ensemble_pseudoVGP,\"age\",\"plon\") # set quantiles of longitude groupedby age for visualization purposes\n",
    "RM_ensemble_pseudoVGP.head(3)"
   ]
  },
  {
   "cell_type": "markdown",
   "id": "4ec55f67-eafa-444e-a421-433213cea533",
   "metadata": {},
   "source": [
    "## 3. Running means on VGPs. Three different approachs as follows:\n",
    "### 3.1. Running means on the computed dataset (one run and A95)"
   ]
  },
  {
   "cell_type": "code",
   "execution_count": 22,
   "id": "fabfa78d-bb26-4493-8ab3-0a4236927772",
   "metadata": {},
   "outputs": [],
   "source": [
    "RM_on_VGP = running_mean_APWP(df_filtered_vgps, 'vgp_lon_SH', 'vgp_lat_SH', 'mean_age', window_length, time_step, max_age, min_age)"
   ]
  },
  {
   "cell_type": "code",
   "execution_count": 23,
   "id": "832761e4-bbd1-4694-9671-5252a28e0b78",
   "metadata": {},
   "outputs": [
    {
     "data": {
      "text/html": [
       "<div>\n",
       "<style scoped>\n",
       "    .dataframe tbody tr th:only-of-type {\n",
       "        vertical-align: middle;\n",
       "    }\n",
       "\n",
       "    .dataframe tbody tr th {\n",
       "        vertical-align: top;\n",
       "    }\n",
       "\n",
       "    .dataframe thead th {\n",
       "        text-align: right;\n",
       "    }\n",
       "</style>\n",
       "<table border=\"1\" class=\"dataframe\">\n",
       "  <thead>\n",
       "    <tr style=\"text-align: right;\">\n",
       "      <th></th>\n",
       "      <th>age</th>\n",
       "      <th>N</th>\n",
       "      <th>n_studies</th>\n",
       "      <th>k</th>\n",
       "      <th>A95</th>\n",
       "      <th>csd</th>\n",
       "      <th>plon</th>\n",
       "      <th>plat</th>\n",
       "    </tr>\n",
       "  </thead>\n",
       "  <tbody>\n",
       "    <tr>\n",
       "      <th>0</th>\n",
       "      <td>0.0</td>\n",
       "      <td>260.0</td>\n",
       "      <td>15.0</td>\n",
       "      <td>24.673134</td>\n",
       "      <td>1.792727</td>\n",
       "      <td>16.306954</td>\n",
       "      <td>-58.469586</td>\n",
       "      <td>-87.906699</td>\n",
       "    </tr>\n",
       "    <tr>\n",
       "      <th>1</th>\n",
       "      <td>2.0</td>\n",
       "      <td>278.0</td>\n",
       "      <td>15.0</td>\n",
       "      <td>24.256975</td>\n",
       "      <td>1.748834</td>\n",
       "      <td>16.446243</td>\n",
       "      <td>-51.125222</td>\n",
       "      <td>-88.069489</td>\n",
       "    </tr>\n",
       "    <tr>\n",
       "      <th>2</th>\n",
       "      <td>4.0</td>\n",
       "      <td>293.0</td>\n",
       "      <td>15.0</td>\n",
       "      <td>23.273122</td>\n",
       "      <td>1.740456</td>\n",
       "      <td>16.790271</td>\n",
       "      <td>-37.112432</td>\n",
       "      <td>-88.032564</td>\n",
       "    </tr>\n",
       "  </tbody>\n",
       "</table>\n",
       "</div>"
      ],
      "text/plain": [
       "   age      N  n_studies          k       A95        csd       plon       plat\n",
       "0  0.0  260.0       15.0  24.673134  1.792727  16.306954 -58.469586 -87.906699\n",
       "1  2.0  278.0       15.0  24.256975  1.748834  16.446243 -51.125222 -88.069489\n",
       "2  4.0  293.0       15.0  23.273122  1.740456  16.790271 -37.112432 -88.032564"
      ]
     },
     "execution_count": 23,
     "metadata": {},
     "output_type": "execute_result"
    }
   ],
   "source": [
    "RM_on_VGP.head(3)"
   ]
  },
  {
   "cell_type": "markdown",
   "id": "b5dbc709-a407-4226-87c9-7ca3ff23b894",
   "metadata": {},
   "source": [
    "### 3.2. Running means on random samples (with replacement) from the original dataset to generate an ensemble of possible solution."
   ]
  },
  {
   "cell_type": "code",
   "execution_count": null,
   "id": "0d0297d5-d2df-42e0-9ad3-8df5852fc441",
   "metadata": {},
   "outputs": [],
   "source": [
    "%%time\n",
    "RM_ensemble_VGPs=running_mean_VGPs_bootstrapped(df_filtered_vgps, 'vgp_lon_SH', 'vgp_lat_SH', 'mean_age', window_length, time_step, max_age, min_age, n_bst = 200)"
   ]
  },
  {
   "cell_type": "code",
   "execution_count": null,
   "id": "89553138-cdc6-4b42-a2bd-14a6d565a42a",
   "metadata": {},
   "outputs": [],
   "source": [
    "RM_VGP_quant_plat = quantiles(RM_ensemble_VGPs,\"age\",\"plat\") # set quantiles of latitude groupedby age for visualization purposes\n",
    "RM_VGP_quant_plon = quantiles(RM_ensemble_VGPs,\"age\",\"plon\") # set quantiles of longitude groupedby age for visualization purposes\n",
    "RM_ensemble_VGPs.head(3)"
   ]
  },
  {
   "cell_type": "markdown",
   "id": "f4410f95-eb87-4fa8-a5f4-25f3c4007811",
   "metadata": {},
   "source": [
    "### 3.2. Propation of directional error towards the VGP level. \n",
    "We take the original directions as a PDF to generate to generate a pseudo-Dataset that incorporates the uncertinty in the directional space and time. We aaply the running means on a number of $pseudo$-VGPs to generate an ensemble of possible paths"
   ]
  },
  {
   "cell_type": "code",
   "execution_count": null,
   "id": "a2094478-8b8b-4674-8b43-1ea0df4c14bc",
   "metadata": {},
   "outputs": [],
   "source": [
    "%%time\n",
    "RM_propagated=running_mean_bootstrapping_direction(df_filtered_vgps,'plon', 'plat', 'age', window_length, time_step, max_age, min_age, n_bst = 100)"
   ]
  },
  {
   "cell_type": "code",
   "execution_count": null,
   "id": "02a051ee-d698-4ad6-8c92-c4042c308e09",
   "metadata": {},
   "outputs": [],
   "source": [
    "RM_VGP_propagated_plat = quantiles(RM_propagated,\"age\",\"plat\") # set quantiles of latitude groupedby age for visualization purposes\n",
    "RM_VGP_propagated_plon = quantiles(RM_propagated,\"age\",\"plon\") # set quantiles of longitude groupedby age for visualization purposes\n",
    "RM_propagated.head(3)"
   ]
  },
  {
   "cell_type": "markdown",
   "id": "0c64dd27-525e-45c4-8392-120b307956bf",
   "metadata": {},
   "source": [
    "# Comparisons plot"
   ]
  },
  {
   "cell_type": "code",
   "execution_count": null,
   "id": "aa9540df-2e29-4a81-ba58-04a51cd07d88",
   "metadata": {},
   "outputs": [],
   "source": [
    "title = \"comparisons\"\n",
    "\n",
    "ensemble1_lon = RM_VGP_propagated_plon\n",
    "ensemble1_lat = RM_VGP_propagated_plat\n",
    "\n",
    "ensemble2_lat = RM_VGP_quant_plat\n",
    "ensemble2_lon = RM_VGP_quant_plon\n",
    "\n",
    "fig, axes = plt.subplots(2, 1, sharex=True, figsize=(15,6))\n",
    "fig.suptitle(title, fontsize= 18, fontweight ='bold')\n",
    "axes[0].set_title('Latitude (°N)', fontsize=12, fontweight ='bold')\n",
    "axes[1].set_title('Longitude (°E)', fontsize=12, fontweight ='bold')\n",
    "axes[0].set_ylabel(r'Latitude (°N)', fontweight ='bold')\n",
    "axes[1].set_ylabel(r'Longitude (°E)', fontweight ='bold')\n",
    "# LATITUDE\n",
    "# axes[0].scatter(RM_ensemble_pseudoVGP['age'],RM_ensemble_pseudoVGP['plat'], s = 1, color = 'black', alpha = 0.2)\n",
    "# axes[0].fill_between(ensemble1_lat.X, ensemble1_lat.q5,ensemble1_lat.q95, color= \"#f9afaf\", alpha=.20,label=\"Running mean on VGPs ensemble\")\n",
    "axes[0].fill_between(ensemble1_lat.X, ensemble1_lat.q25,ensemble1_lat.q75, color= \"#f98787\", alpha=.20)\n",
    "# axes[0].plot(a.X, a.mean, '--', color=\"#ad3131\",label=\"mean\")\n",
    "axes[0].plot(ensemble1_lat.X, ensemble1_lat.q50, '-',color=\"#d12a2a\")\n",
    "axes[0].scatter(ensemble1_lat.X, ensemble1_lat.q50,color=\"#d12a2a\")\n",
    "\n",
    "# axes[0].scatter(RM_ensemble_VGPs['age'],RM_ensemble_VGPs['plat'], s = 1, color = 'black', alpha = 0.2)\n",
    "# axes[0].fill_between(ensemble2_lat.X, ensemble2_lat.q5,ensemble2_lat.q95, color= \"#1CA0F9\", alpha=.20,label=\"Running mean on $pseudo$-VGPs\")\n",
    "axes[0].fill_between(ensemble2_lat.X, ensemble2_lat.q25,ensemble2_lat.q75, color= \"#0E7DC9\", alpha=.20)\n",
    "# axes[0].plot(a.X, a.mean, '--', color=\"#ad3131\",label=\"mean\")\n",
    "axes[0].plot(ensemble2_lat.X, ensemble2_lat.q50, '-',color=\"#00497A\")\n",
    "axes[0].scatter(ensemble2_lat.X, ensemble2_lat.q50,color=\"#00497A\")\n",
    "\n",
    "axes[0].plot(RM_classic_by_study.age, RM_classic_by_study.plat, '-',color=\"black\") #CLASSIC\n",
    "axes[0].scatter(RM_classic_by_study.age, RM_classic_by_study.plat, color=\"black\") #CLASSIC\n",
    "\n",
    "# LONGITUDE\n",
    "#axes[1].scatter(RM_ensemble_VGPs['age'],RM_ensemble_VGPs['plon'], s = 1, color = 'black', alpha = 0.2)\n",
    "axes[1].fill_between(ensemble1_lon.X, ensemble1_lon.q16,ensemble1_lon.q84, color= \"#f9afaf\", alpha=.50,label=\"0.16-0.84 percentiles - Running mean on VGPs ensemble\")\n",
    "# axes[1].fill_between(ensemble1_lon.X, ensemble1_lon.q25,ensemble1_lon.q75, color= \"#f98787\", alpha=.20, label=\"Running mean on $pseudo$-VGPs\")\n",
    "# axes[1].plot(a.X, a.mean, '--', color=\"#ad3131\",label=\"mean\")\n",
    "axes[1].plot(ensemble1_lon.X, ensemble1_lon.q50, '-',color=\"#d12a2a\")\n",
    "axes[1].scatter(ensemble1_lon.X, ensemble1_lon.q50,color=\"#d12a2a\")\n",
    "\n",
    "# axes[0].scatter(RM_ensemble_VGPs['age'],RM_ensemble_VGPs['plat'], s = 1, color = 'black', alpha = 0.2)\n",
    "# axes[1].fill_between(ensemble2_lon.X, ensemble2_lon.q5,ensemble2_lon.q95, color= \"#1CA0F9\", alpha=.20)\n",
    "axes[1].fill_between(ensemble2_lon.X, ensemble2_lon.q25,ensemble2_lon.q75, color= \"#0E7DC9\", alpha=.20,label=\"0.16-0.84 percentiles - Running mean on VGPs\")\n",
    "# axes[0].plot(a.X, a.mean, '--', color=\"#ad3131\",label=\"mean\")\n",
    "axes[1].plot(ensemble2_lon.X, ensemble2_lon.q50, '-',color=\"#00497A\", zorder =2)\n",
    "axes[1].scatter(ensemble2_lon.X, ensemble2_lon.q50,  color = \"#00497A\", alpha = 1, zorder =3)\n",
    "\n",
    "axes[1].plot(RM_classic_by_study.age, RM_classic_by_study.plon, '-',color=\"black\", label = \"RM classic\") #CLASSIC\n",
    "axes[1].scatter(RM_classic_by_study.age, RM_classic_by_study.plon, color=\"black\") #CLASSIC\n",
    "\n",
    "# axes[1].set_ylim(-100, 50)\n",
    "plt.legend(loc=\"upper left\")"
   ]
  },
  {
   "cell_type": "code",
   "execution_count": null,
   "id": "2347700a-bbc0-424e-bff6-007a7af9030b",
   "metadata": {},
   "outputs": [],
   "source": []
  }
 ],
 "metadata": {
  "kernelspec": {
   "display_name": "Python 3 (ipykernel)",
   "language": "python",
   "name": "python3"
  },
  "language_info": {
   "codemirror_mode": {
    "name": "ipython",
    "version": 3
   },
   "file_extension": ".py",
   "mimetype": "text/x-python",
   "name": "python",
   "nbconvert_exporter": "python",
   "pygments_lexer": "ipython3",
   "version": "3.10.0"
  }
 },
 "nbformat": 4,
 "nbformat_minor": 5
}
